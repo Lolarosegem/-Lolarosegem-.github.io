{
 "cells": [
  {
   "cell_type": "markdown",
   "id": "e17e9baa",
   "metadata": {},
   "source": [
    "<h1> Week01: Getting started with Anaconda, Jupyter Notebooknand Python</h1>\n"
   ]
  },
  {
   "cell_type": "markdown",
   "id": "f6cfe548",
   "metadata": {},
   "source": [
    "a) I chose to join this course in order to challenge myself "
   ]
  },
  {
   "cell_type": "markdown",
   "id": "ced5f341",
   "metadata": {},
   "source": [
    "b) I have zero prior experience with AI or Python, only an interest"
   ]
  },
  {
   "cell_type": "markdown",
   "id": "2fa64b52",
   "metadata": {},
   "source": [
    " c) \n",
    " * I expect to learn that i need not be afraid of technology that is wholly unfamiliar to me"
   ]
  },
  {
   "cell_type": "markdown",
   "id": "9d83c132",
   "metadata": {},
   "source": [
    "* I expect to learn basic conversational level in python "
   ]
  },
  {
   "cell_type": "markdown",
   "id": "e0e5e905",
   "metadata": {},
   "source": [
    "* I hope i will enjoy this part of the course as much as i enjoyed learning to code in HTML"
   ]
  },
  {
   "cell_type": "markdown",
   "id": "ce8788ee",
   "metadata": {},
   "source": [
    "* I hope that i can create a functional and pretty notebook"
   ]
  },
  {
   "cell_type": "code",
   "execution_count": 3,
   "id": "110dcc6a",
   "metadata": {},
   "outputs": [
    {
     "name": "stdout",
     "output_type": "stream",
     "text": [
      "Hello, world\n"
     ]
    }
   ],
   "source": [
    "print (\"Hello, world\")"
   ]
  },
  {
   "cell_type": "code",
   "execution_count": 1,
   "id": "bb3658a0",
   "metadata": {},
   "outputs": [
    {
     "name": "stdout",
     "output_type": "stream",
     "text": [
      "Hi this is Suzanne failing miserably\n"
     ]
    }
   ],
   "source": [
    "\n",
    "message = \"Hi this is Suzanne failing miserably\"\n",
    "print (message)"
   ]
  },
  {
   "cell_type": "code",
   "execution_count": 6,
   "id": "a3944651",
   "metadata": {},
   "outputs": [
    {
     "name": "stdout",
     "output_type": "stream",
     "text": [
      "Hi i hate this classHi i hate this class\n"
     ]
    }
   ],
   "source": [
    "message = \"Hi i hate this class\" \n",
    "print (message + message)\n"
   ]
  },
  {
   "cell_type": "markdown",
   "id": "3e409c89",
   "metadata": {},
   "source": [
    "message = \"Hi ialso now hate myself\"\n",
    "print (message*3?)"
   ]
  },
  {
   "cell_type": "code",
   "execution_count": 3,
   "id": "caff9fc0",
   "metadata": {},
   "outputs": [],
   "source": [
    "from IPython.display import*"
   ]
  },
  {
   "cell_type": "code",
   "execution_count": 4,
   "id": "0c51833a",
   "metadata": {},
   "outputs": [
    {
     "data": {
      "image/jpeg": "[encoded data removed]",
      "text/html": [
       "\n",
       "        <iframe\n",
       "            width=\"400\"\n",
       "            height=\"300\"\n",
       "            src=\"https://www.youtube.com/embed/d8ekz_CSBVg\"\n",
       "            frameborder=\"0\"\n",
       "            allowfullscreen\n",
       "            \n",
       "        ></iframe>\n",
       "        "
      ],
      "text/plain": [
       "<IPython.lib.display.YouTubeVideo at 0x235091b7760>"
      ]
     },
     "execution_count": 4,
     "metadata": {},
     "output_type": "execute_result"
    }
   ],
   "source": [
    "YouTubeVideo(\"d8ekz_CSBVg\")"
   ]
  },
  {
   "cell_type": "code",
   "execution_count": null,
   "id": "0db8eeaf",
   "metadata": {},
   "outputs": [],
   "source": [
    "import webbrowser\n",
    "import requests\n",
    "\n",
    "print (\"Shall we hunt down an old\n",
    "website?\")\n",
    "site = input(\"Type a website URL: \")\n",
    "era = input(\"Type year, month, and date, \n",
    "e.g., 20150613: \")\n",
    "url = \n",
    "\"http//archive.org/wayback/available?\n",
    "url=%s&timestamp=%s\" % (site, era)\n",
    "response = requests.get (url)\n",
    "data = response.json()\n",
    "try:\n",
    "    old_site = data [\"archived_snapshots\"]\n",
    "[\"closest\"][\"url\"]\n",
    "    print (\"Found this copy: \", old_site)\n",
    "    print (\"It should appear in your browser.\")\n",
    "    webbrowser.open(old_site)\n",
    "except:\n",
    "    print (\"Sorry, could not find the site\")\n"
   ]
  },
  {
   "cell_type": "markdown",
   "id": "06373434",
   "metadata": {},
   "source": [
    "Week 02 Exploring the data in multiple ways"
   ]
  },
  {
   "cell_type": "code",
   "execution_count": null,
   "id": "3fdca9a0",
   "metadata": {},
   "outputs": [],
   "source": []
  }
 ],
 "metadata": {
  "kernelspec": {
   "display_name": "Python 3 (ipykernel)",
   "language": "python",
   "name": "python3"
  },
  "language_info": {
   "codemirror_mode": {
    "name": "ipython",
    "version": 3
   },
   "file_extension": ".py",
   "mimetype": "text/x-python",
   "name": "python",
   "nbconvert_exporter": "python",
   "pygments_lexer": "ipython3",
   "version": "3.10.9"
  }
 },
 "nbformat": 4,
 "nbformat_minor": 5
}
