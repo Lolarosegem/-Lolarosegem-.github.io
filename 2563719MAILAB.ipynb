{
 "cells": [
  {
   "cell_type": "markdown",
   "id": "e17e9baa",
   "metadata": {},
   "source": [
    "<h1> Week01: Getting started with Anaconda, Jupyter Notebooknand Python</h1>\n"
   ]
  },
  {
   "cell_type": "markdown",
   "id": "f6cfe548",
   "metadata": {},
   "source": [
    "a) I chose to join this course in order to challenge myself "
   ]
  },
  {
   "cell_type": "markdown",
   "id": "ced5f341",
   "metadata": {},
   "source": [
    "b) I have zero prior experience with AI or Python, only an interest"
   ]
  },
  {
   "cell_type": "markdown",
   "id": "2fa64b52",
   "metadata": {},
   "source": [
    " c) \n",
    " * I expect to learn that i need not be afraid of technology that is wholly unfamiliar to me"
   ]
  },
  {
   "cell_type": "markdown",
   "id": "9d83c132",
   "metadata": {},
   "source": [
    "* I expect to learn basic conversational level in python "
   ]
  },
  {
   "cell_type": "markdown",
   "id": "e0e5e905",
   "metadata": {},
   "source": [
    "* I hope i will enjoy this part of the course as much as i enjoyed learning to code in HTML"
   ]
  },
  {
   "cell_type": "markdown",
   "id": "ce8788ee",
   "metadata": {},
   "source": [
    "* I hope that i can create a functional and pretty notebook"
   ]
  },
  {
   "cell_type": "code",
   "execution_count": 2,
   "id": "110dcc6a",
   "metadata": {},
   "outputs": [
    {
     "name": "stdout",
     "output_type": "stream",
     "text": [
      "Hello, world\n"
     ]
    }
   ],
   "source": [
    "print (\"Hello, world\")"
   ]
  },
  {
   "cell_type": "code",
   "execution_count": 3,
   "id": "7aa6f107",
   "metadata": {},
   "outputs": [
    {
     "name": "stdout",
     "output_type": "stream",
     "text": [
      "Coffee needed urgently\n"
     ]
    }
   ],
   "source": [
    "message = (\"Coffee needed urgently\")\n",
    "print (message)"
   ]
  },
  {
   "cell_type": "code",
   "execution_count": 4,
   "id": "b07d6311",
   "metadata": {},
   "outputs": [
    {
     "name": "stdout",
     "output_type": "stream",
     "text": [
      "Coffee needed urgentlyCoffee needed urgently\n"
     ]
    }
   ],
   "source": [
    "print (message + message)"
   ]
  },
  {
   "cell_type": "code",
   "execution_count": 5,
   "id": "ef5a93b3",
   "metadata": {},
   "outputs": [
    {
     "name": "stdout",
     "output_type": "stream",
     "text": [
      "Coffee needed urgentlyCoffee needed urgentlyCoffee needed urgently\n"
     ]
    }
   ],
   "source": [
    "print (message*3)"
   ]
  },
  {
   "cell_type": "code",
   "execution_count": 6,
   "id": "a40a98f5",
   "metadata": {},
   "outputs": [
    {
     "name": "stdout",
     "output_type": "stream",
     "text": [
      "C\n"
     ]
    }
   ],
   "source": [
    "print(message[0])"
   ]
  },
  {
   "cell_type": "code",
   "execution_count": 7,
   "id": "2e849080",
   "metadata": {},
   "outputs": [
    {
     "name": "stdout",
     "output_type": "stream",
     "text": [
      "o\n"
     ]
    }
   ],
   "source": [
    "print (message[1])"
   ]
  },
  {
   "cell_type": "code",
   "execution_count": 8,
   "id": "8ba0de44",
   "metadata": {},
   "outputs": [
    {
     "name": "stdout",
     "output_type": "stream",
     "text": [
      "f\n"
     ]
    }
   ],
   "source": [
    "print (message[2])"
   ]
  },
  {
   "cell_type": "code",
   "execution_count": 9,
   "id": "378bd92c",
   "metadata": {},
   "outputs": [
    {
     "name": "stdout",
     "output_type": "stream",
     "text": [
      "f\n"
     ]
    }
   ],
   "source": [
    "print (message[3])"
   ]
  },
  {
   "cell_type": "code",
   "execution_count": 10,
   "id": "d93ef80a",
   "metadata": {},
   "outputs": [
    {
     "name": "stdout",
     "output_type": "stream",
     "text": [
      "e\n"
     ]
    }
   ],
   "source": [
    "print (message[4])\n"
   ]
  },
  {
   "cell_type": "code",
   "execution_count": 11,
   "id": "54163210",
   "metadata": {},
   "outputs": [
    {
     "name": "stdout",
     "output_type": "stream",
     "text": [
      "e\n"
     ]
    }
   ],
   "source": [
    "print (message[5])"
   ]
  },
  {
   "cell_type": "code",
   "execution_count": 12,
   "id": "08fe9f85",
   "metadata": {},
   "outputs": [],
   "source": [
    "from IPython.display import*"
   ]
  },
  {
   "cell_type": "code",
   "execution_count": 13,
   "id": "f9d0b688",
   "metadata": {},
   "outputs": [
    {
     "data": {
      "image/jpeg": "[encoded data removed]",
      "text/html": [
       "\n",
       "        <iframe\n",
       "            width=\"400\"\n",
       "            height=\"300\"\n",
       "            src=\"https://www.youtube.com/embed/05PKG_pWsVY\"\n",
       "            frameborder=\"0\"\n",
       "            allowfullscreen\n",
       "            \n",
       "        ></iframe>\n",
       "        "
      ],
      "text/plain": [
       "<IPython.lib.display.YouTubeVideo at 0x1591d6d0c70>"
      ]
     },
     "execution_count": 13,
     "metadata": {},
     "output_type": "execute_result"
    }
   ],
   "source": [
    "YouTubeVideo (\"05PKG_pWsVY\")"
   ]
  },
  {
   "cell_type": "code",
   "execution_count": null,
   "id": "c9a682e6",
   "metadata": {},
   "outputs": [
    {
     "name": "stdout",
     "output_type": "stream",
     "text": [
      "Shall we hunt down an old website?\n"
     ]
    }
   ],
   "source": [
    "import webbrowser\n",
    "import requests\n",
    "\n",
    "print (\"Shall we hunt down an old website?\")\n",
    "site = input (\"Type a website URL: \")\n",
    "era = input (\"Type year, month, and date, e.g., 20150613: \")\n",
    "url = \"http://archive.org/wayback/available?url=%s&timestams=%s\" \n",
    "(site, era)\n",
    "response = requests.get(url)\n",
    "data = response.json()\n",
    "try:\n",
    "    old_site = data[\"archived_snapshots\"][\"closest\"][\"url\"]\n",
    "    print(\"Found this copy: \", old_site)\n",
    "    print(\"It should appear in your browser.\")\n",
    "    webbrowser.open(old_site)\n",
    "except:\n",
    "    print(\"Sorry, could not find the site.\")\n",
    "    "
   ]
  },
  {
   "cell_type": "code",
   "execution_count": null,
   "id": "192115bb",
   "metadata": {},
   "outputs": [],
   "source": []
  }
 ],
 "metadata": {
  "kernelspec": {
   "display_name": "Python 3 (ipykernel)",
   "language": "python",
   "name": "python3"
  },
  "language_info": {
   "codemirror_mode": {
    "name": "ipython",
    "version": 3
   },
   "file_extension": ".py",
   "mimetype": "text/x-python",
   "name": "python",
   "nbconvert_exporter": "python",
   "pygments_lexer": "ipython3",
   "version": "3.10.9"
  }
 },
 "nbformat": 4,
 "nbformat_minor": 5
}
